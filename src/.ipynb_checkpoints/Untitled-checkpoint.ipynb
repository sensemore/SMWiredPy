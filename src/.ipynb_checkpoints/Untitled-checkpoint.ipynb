{
 "cells": [
  {
   "cell_type": "code",
   "execution_count": 1,
   "id": "e340f4ab",
   "metadata": {},
   "outputs": [],
   "source": [
    "from wired import *\n",
    "\n",
    "dev = Wired()\n",
    "dev.device_check()"
   ]
  },
  {
   "cell_type": "code",
   "execution_count": null,
   "id": "de5a65f2",
   "metadata": {},
   "outputs": [],
   "source": [
    "for i in range(100):\n",
    "    dev.get_version(0)"
   ]
  }
 ],
 "metadata": {
  "kernelspec": {
   "display_name": "Python 3 (ipykernel)",
   "language": "python",
   "name": "python3"
  },
  "language_info": {
   "codemirror_mode": {
    "name": "ipython",
    "version": 3
   },
   "file_extension": ".py",
   "mimetype": "text/x-python",
   "name": "python",
   "nbconvert_exporter": "python",
   "pygments_lexer": "ipython3",
   "version": "3.8.8"
  }
 },
 "nbformat": 4,
 "nbformat_minor": 5
}
